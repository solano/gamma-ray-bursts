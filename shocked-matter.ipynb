{
 "cells": [
  {
   "attachments": {},
   "cell_type": "markdown",
   "metadata": {},
   "source": [
    "## Step 2: properties of shocked matter\n",
    "The emssion process depends on the energy distribution of electrons, protons, and the magnetic field. We can calculate the magnetic field by using the following relation\n",
    "$$ \\epsilon_Bu_* = \\frac{B^2}{8\\pi} $$\n",
    "where $u_* = \\rho_* \\epsilon_*$. Asumming the equipartition beetween protons, electrons, and the magnetic field, $\\epsilon_B$ can be considered to be 1/3. $\\rho_*$ can be estimated as follows \n",
    "$$ \\rho_* = \\frac{M_*}{\\Gamma_* 4\\pi R^2 \\Delta_*} \\approx \\frac{M_*}{\\Gamma_* 4\\pi R^2 c} $$\n",
    "$$\\approx \\frac{\\dot{M}_{shock}}{c} \\approx \\frac{\\dot{E}}{\\bar{\\Gamma}c^3} $$\n",
    "where $\\bar{\\Gamma}$ denotes the average of $\\Gamma$. We are left with calculating $\\epsilon_*$. For this, we can apply the formula\n",
    "$$ \\frac{\\epsilon_*}{c^2} = \\frac{1}{2} \\left[ \\sqrt{\\frac{\\Gamma_1}{\\Gamma_2}} + \\sqrt{\\frac{\\Gamma_2}{\\Gamma_1}} \\right] - 1 $$\n",
    "\n",
    "Combining all these equations, for the magnetic field we get\n",
    "$$ B = \\sqrt{\\frac{4\\pi\\dot{E}}{3\\bar{\\Gamma}c} \\left[ \\sqrt{\\frac{\\Gamma_1}{\\Gamma_2}} + \\sqrt{\\frac{\\Gamma_2}{\\Gamma_1}}  - 2\\right]}$$\n",
    "\n",
    "### Distribution of accelerated electrons\n",
    "We assume that electrons are acceleat"
   ]
  }
 ],
 "metadata": {
  "language_info": {
   "name": "python"
  },
  "orig_nbformat": 4
 },
 "nbformat": 4,
 "nbformat_minor": 2
}
