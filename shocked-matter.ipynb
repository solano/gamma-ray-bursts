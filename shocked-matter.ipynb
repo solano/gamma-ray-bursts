{
 "cells": [
  {
   "attachments": {},
   "cell_type": "markdown",
   "metadata": {},
   "source": [
    "## Step 2: properties of shocked matter\n",
    "\n",
    "- $\\epsilon_*$ is the average energy dissipated per unit mass in the shock.\n",
    "- $u_*$ is the....\n",
    "\n",
    "The emssion process depends on the energy distribution of electrons, protons, and the magnetic field. We can calculate the magnetic field by using the following relation\n",
    "\n",
    "$$ \\epsilon_B u_* = \\frac{B^2}{2 \\mu_0} $$\n",
    "\n",
    "i.e.\n",
    "\n",
    "$$ B = \\sqrt{2 \\mu_0 \\epsilon_B u_*} $$\n",
    "\n",
    "where $u_* = \\rho_* \\epsilon_*$. Asumming the equipartition beetween protons, electrons, and the magnetic field, $\\epsilon_B$ can be considered to be 1/3. $\\rho_*$ can be estimated as follows \n",
    "\n",
    "$$ \\rho_* = \\frac{M_*}{\\Gamma_* 4\\pi R^2 \\Delta_*} \\approx \\frac{M_*}{\\Gamma_* 4\\pi R^2 c} $$\n",
    "\n",
    "$$\\approx \\frac{\\dot{M}_{shock}}{c} \\approx \\frac{\\dot{E}}{\\bar{\\Gamma}c^3} $$\n",
    "\n",
    "where $\\bar{\\Gamma}$ denotes the average of $\\Gamma$. We are left with calculating $\\epsilon_*$. For this, we can apply the formula\n",
    "\n",
    "$$ \\frac{\\epsilon_*}{c^2} = \\frac{1}{2} \\left[ \\sqrt{\\frac{\\Gamma_1}{\\Gamma_2}} + \\sqrt{\\frac{\\Gamma_2}{\\Gamma_1}} \\right] - 1 $$\n",
    "\n",
    "\n",
    "### Distribution of accelerated electrons\n",
    "We assume that a fraction $\\zeta$ of electrons are accelerated by a fraction $\\epsilon_e = 1/3$ and acquire a power law distribution of gamma factors of power $-p$. Thus\n",
    "$$ n_e^{acc} = \\int_{\\gamma_m}^{\\gamma_M} n(\\gamma) \\, d\\gamma = \\zeta \\frac{\\rho_*}{m_p} $$\n",
    "$$ u_e^{acc} = \\int_{\\gamma_m}^{\\gamma_M} n(\\gamma) \\gamma m_e c^2 \\, d\\gamma = \\epsilon_e u_* $$\n",
    "\n",
    "and\n",
    "$$ n(\\gamma) = A\\gamma^{-p} $$\n",
    "for $\\gamma_m \\leq \\gamma \\leq \\gamma_M$, $n(\\gamma)=0$ elsewhere.\n",
    "\n",
    "This gives, in the limit $\\gamma_M \\to \\infty$,\n",
    "$$ \\gamma_m = \\left(\\frac{p-2}{p-1}\\right) \\frac{m_p}{m_e} \\frac{\\epsilon_e \\epsilon_*}{\\zeta} $$\n",
    "$$ A = (p-1) \\zeta \\frac{\\rho_*}{m_p} \\gamma_m^{p-1} $$"
   ]
  }
 ],
 "metadata": {
  "kernelspec": {
   "display_name": "Python 3.9.13 ('base')",
   "language": "python",
   "name": "python3"
  },
  "language_info": {
   "name": "python",
   "version": "3.9.13"
  },
  "orig_nbformat": 4,
  "vscode": {
   "interpreter": {
    "hash": "4812294c6f66d1324ff60e8be9c61f62a5f209d02eb7146b1d2633c46157a481"
   }
  }
 },
 "nbformat": 4,
 "nbformat_minor": 2
}
